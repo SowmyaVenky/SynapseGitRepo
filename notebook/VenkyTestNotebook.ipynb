{
  "cells": [
    {
      "cell_type": "code",
      "source": [
        "%%pyspark\r\n",
        "data_path = spark.read.load('abfss://venkyfs1001@venkyadls1001.dfs.core.windows.net/AirQualityIndexWithTemp/', format='parquet')\r\n",
        "data_path.show(10)"
      ],
      "outputs": [
        {
          "output_type": "display_data",
          "data": {
            "application/vnd.livy.statement-meta+json": {
              "spark_pool": "venkysparkpool",
              "session_id": "10",
              "statement_id": 2,
              "statement_ids": [
                2
              ],
              "state": "finished",
              "livy_statement_state": "available",
              "queued_time": "2024-05-14T18:38:29.0153053Z",
              "session_start_time": "2024-05-14T18:38:29.0733007Z",
              "execution_start_time": "2024-05-14T18:41:51.2182726Z",
              "execution_finish_time": "2024-05-14T18:42:14.5588883Z",
              "spark_jobs": null,
              "parent_msg_id": "e5ae1edd-838f-4c93-a034-ab75b433ecb3"
            },
            "text/plain": "StatementMeta(venkysparkpool, 10, 2, Finished, Available)"
          },
          "metadata": {}
        },
        {
          "output_type": "stream",
          "name": "stdout",
          "text": [
            "+---------+---------+----------------+--------------+\n| latitude|longitude|            time|temperature_2m|\n+---------+---------+----------------+--------------+\n|44.699997|44.199997|2018-01-01T00:00|           0.9|\n|44.699997|44.199997|2018-01-01T01:00|           0.9|\n|44.699997|44.199997|2018-01-01T02:00|           0.8|\n|44.699997|44.199997|2018-01-01T03:00|           0.8|\n|44.699997|44.199997|2018-01-01T04:00|           0.9|\n|44.699997|44.199997|2018-01-01T05:00|           1.3|\n|44.699997|44.199997|2018-01-01T06:00|           1.9|\n|44.699997|44.199997|2018-01-01T07:00|           2.7|\n|44.699997|44.199997|2018-01-01T08:00|           3.3|\n|44.699997|44.199997|2018-01-01T09:00|           4.1|\n+---------+---------+----------------+--------------+\nonly showing top 10 rows\n\n"
          ]
        }
      ],
      "execution_count": 1,
      "metadata": {
        "microsoft": {
          "language": "python"
        }
      }
    },
    {
      "cell_type": "code",
      "source": [
        "%%sql\r\n",
        "DROP TABLE default.temperatures_table;\r\n",
        "CREATE TABLE default.temperatures_table\r\n",
        "USING PARQUET\r\n",
        "LOCATION\r\n",
        "'abfss://venkyfs1001@venkyadls1001.dfs.core.windows.net/AirQualityIndexWithTemp/'"
      ],
      "outputs": [
        {
          "output_type": "display_data",
          "data": {
            "application/vnd.livy.statement-meta+json": {
              "spark_pool": null,
              "session_id": "10",
              "statement_id": 11,
              "statement_ids": [
                10,
                11
              ],
              "state": "finished",
              "livy_statement_state": "available",
              "queued_time": "2024-05-14T18:45:49.3062311Z",
              "session_start_time": null,
              "execution_start_time": "2024-05-14T18:45:49.4386807Z",
              "execution_finish_time": "2024-05-14T18:45:54.1459784Z",
              "spark_jobs": null,
              "parent_msg_id": "f04d6094-5c1f-47b9-9514-a8658436024e"
            },
            "text/plain": "StatementMeta(, 10, 11, Finished, Available)"
          },
          "metadata": {}
        },
        {
          "output_type": "execute_result",
          "execution_count": 7,
          "data": {
            "application/vnd.synapse.sparksql-result+json": {
              "schema": {
                "type": "struct",
                "fields": []
              },
              "data": []
            },
            "text/plain": "<Spark SQL result set with 0 rows and 0 fields>"
          },
          "metadata": {}
        },
        {
          "output_type": "execute_result",
          "execution_count": 7,
          "data": {
            "application/vnd.synapse.sparksql-result+json": {
              "schema": {
                "type": "struct",
                "fields": []
              },
              "data": []
            },
            "text/plain": "<Spark SQL result set with 0 rows and 0 fields>"
          },
          "metadata": {}
        }
      ],
      "execution_count": 7,
      "metadata": {
        "jupyter": {
          "source_hidden": false,
          "outputs_hidden": false
        },
        "nteract": {
          "transient": {
            "deleting": false
          }
        },
        "microsoft": {
          "language": "sparksql"
        },
        "collapsed": false
      }
    },
    {
      "cell_type": "code",
      "source": [
        "%%sql\r\n",
        "show databases;\r\n",
        "show tables;\r\n",
        "select * from default.temperatures_table limit 10;"
      ],
      "outputs": [
        {
          "output_type": "display_data",
          "data": {
            "application/vnd.livy.statement-meta+json": {
              "spark_pool": null,
              "session_id": "10",
              "statement_id": 14,
              "statement_ids": [
                12,
                13,
                14
              ],
              "state": "finished",
              "livy_statement_state": "available",
              "queued_time": "2024-05-14T18:46:19.1741355Z",
              "session_start_time": null,
              "execution_start_time": "2024-05-14T18:46:19.2922051Z",
              "execution_finish_time": "2024-05-14T18:46:25.6230861Z",
              "spark_jobs": null,
              "parent_msg_id": "fe628e9a-45e5-40be-8cda-1fcf9509feb4"
            },
            "text/plain": "StatementMeta(, 10, 14, Finished, Available)"
          },
          "metadata": {}
        },
        {
          "output_type": "execute_result",
          "execution_count": 8,
          "data": {
            "application/vnd.synapse.sparksql-result+json": {
              "schema": {
                "type": "struct",
                "fields": [
                  {
                    "name": "namespace",
                    "type": "string",
                    "nullable": false,
                    "metadata": {}
                  }
                ]
              },
              "data": [
                [
                  "default"
                ]
              ]
            },
            "text/plain": "<Spark SQL result set with 1 rows and 1 fields>"
          },
          "metadata": {}
        },
        {
          "output_type": "execute_result",
          "execution_count": 8,
          "data": {
            "application/vnd.synapse.sparksql-result+json": {
              "schema": {
                "type": "struct",
                "fields": [
                  {
                    "name": "namespace",
                    "type": "string",
                    "nullable": false,
                    "metadata": {}
                  },
                  {
                    "name": "tableName",
                    "type": "string",
                    "nullable": false,
                    "metadata": {}
                  },
                  {
                    "name": "isTemporary",
                    "type": "boolean",
                    "nullable": false,
                    "metadata": {}
                  }
                ]
              },
              "data": [
                [
                  "default",
                  "temperatures_table",
                  false
                ]
              ]
            },
            "text/plain": "<Spark SQL result set with 1 rows and 3 fields>"
          },
          "metadata": {}
        },
        {
          "output_type": "execute_result",
          "execution_count": 8,
          "data": {
            "application/vnd.synapse.sparksql-result+json": {
              "schema": {
                "type": "struct",
                "fields": [
                  {
                    "name": "latitude",
                    "type": "double",
                    "nullable": true,
                    "metadata": {}
                  },
                  {
                    "name": "longitude",
                    "type": "double",
                    "nullable": true,
                    "metadata": {}
                  },
                  {
                    "name": "time",
                    "type": "string",
                    "nullable": true,
                    "metadata": {}
                  },
                  {
                    "name": "temperature_2m",
                    "type": "double",
                    "nullable": true,
                    "metadata": {}
                  }
                ]
              },
              "data": [
                [
                  44.699997,
                  44.199997,
                  "2018-01-01T00:00",
                  0.9
                ],
                [
                  44.699997,
                  44.199997,
                  "2018-01-01T01:00",
                  0.9
                ],
                [
                  44.699997,
                  44.199997,
                  "2018-01-01T02:00",
                  0.8
                ],
                [
                  44.699997,
                  44.199997,
                  "2018-01-01T03:00",
                  0.8
                ],
                [
                  44.699997,
                  44.199997,
                  "2018-01-01T04:00",
                  0.9
                ],
                [
                  44.699997,
                  44.199997,
                  "2018-01-01T05:00",
                  1.3
                ],
                [
                  44.699997,
                  44.199997,
                  "2018-01-01T06:00",
                  1.9
                ],
                [
                  44.699997,
                  44.199997,
                  "2018-01-01T07:00",
                  2.7
                ],
                [
                  44.699997,
                  44.199997,
                  "2018-01-01T08:00",
                  3.3
                ],
                [
                  44.699997,
                  44.199997,
                  "2018-01-01T09:00",
                  4.1
                ]
              ]
            },
            "text/plain": "<Spark SQL result set with 10 rows and 4 fields>"
          },
          "metadata": {}
        }
      ],
      "execution_count": 8,
      "metadata": {
        "jupyter": {
          "source_hidden": false,
          "outputs_hidden": false
        },
        "nteract": {
          "transient": {
            "deleting": false
          }
        },
        "microsoft": {
          "language": "sparksql"
        },
        "collapsed": false
      }
    }
  ],
  "metadata": {
    "language_info": {
      "name": "python"
    },
    "kernelspec": {
      "name": "synapse_pyspark",
      "language": "Python",
      "display_name": "Synapse PySpark"
    },
    "kernel_info": {
      "name": "synapse_pyspark"
    },
    "save_output": true,
    "synapse_widget": {
      "version": "0.1",
      "state": {}
    }
  },
  "nbformat": 4,
  "nbformat_minor": 2
}